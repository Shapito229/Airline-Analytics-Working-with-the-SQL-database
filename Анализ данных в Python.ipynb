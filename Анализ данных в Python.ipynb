{
 "cells": [
  {
   "cell_type": "markdown",
   "metadata": {
    "toc": true
   },
   "source": [
    "<h1>Содержание<span class=\"tocSkip\"></span></h1>\n",
    "<div class=\"toc\"><ul class=\"toc-item\"><li><span><a href=\"#Аналитика\" data-toc-modified-id=\"Аналитика-1\"><span class=\"toc-item-num\">1&nbsp;&nbsp;</span>Аналитика</a></span></li><li><span><a href=\"#Топ-10-городов\" data-toc-modified-id=\"Топ-10-городов-2\"><span class=\"toc-item-num\">2&nbsp;&nbsp;</span>Топ 10 городов</a></span></li><li><span><a href=\"#Зависимость-количества-полетов-от-модели-самолета\" data-toc-modified-id=\"Зависимость-количества-полетов-от-модели-самолета-3\"><span class=\"toc-item-num\">3&nbsp;&nbsp;</span>Зависимость количества полетов от модели самолета</a></span></li><li><span><a href=\"#Среднее-количество-полетов-в-каждый-город\" data-toc-modified-id=\"Среднее-количество-полетов-в-каждый-город-4\"><span class=\"toc-item-num\">4&nbsp;&nbsp;</span>Среднее количество полетов в каждый город</a></span></li><li><span><a href=\"#Среднее-количество-рейсов-за-год-в-городах-топ-10\" data-toc-modified-id=\"Среднее-количество-рейсов-за-год-в-городах-топ-10-5\"><span class=\"toc-item-num\">5&nbsp;&nbsp;</span>Среднее количество рейсов за год в городах топ 10</a></span></li><li><span><a href=\"#Общий-вывод\" data-toc-modified-id=\"Общий-вывод-6\"><span class=\"toc-item-num\">6&nbsp;&nbsp;</span>Общий вывод</a></span></li><li><span><a href=\"#Чек-лист-проверки\" data-toc-modified-id=\"Чек-лист-проверки-7\"><span class=\"toc-item-num\">7&nbsp;&nbsp;</span>Чек-лист проверки</a></span></li></ul></div>"
   ]
  },
  {
   "cell_type": "markdown",
   "metadata": {},
   "source": [
    "# Спрос на рейсы авиакомпании"
   ]
  },
  {
   "cell_type": "markdown",
   "metadata": {},
   "source": [
    "Вы аналитик российской авиакомпании F9, выполняющей внутренние пассажирские перевозки. Важно понять предпочтения пользователей, покупающих билеты на разные направления.\n",
    "\n",
    "Вам предстоит изучить базу данных и проанализировать спрос пассажиров на рейсы в города, где проходят крупнейшие культурные фестивали."
   ]
  },
  {
   "cell_type": "markdown",
   "metadata": {},
   "source": [
    "У вас есть файлы с результатами запросов из предыдущих заданий.\n",
    "\n",
    "**query_1.csv** — результат первого запроса. В нём содержится такая информация:\n",
    "\n",
    "- *model* — **модель самолета;\n",
    "- *flights_amount* — количество рейсов для каждой модели самолетов *model* в сентябре 2018 года.\n",
    "\n",
    "**query_3.csv** — результат третьего запроса. В нём содержится такая информация:\n",
    "\n",
    "- *city* — город;\n",
    "- *average_flights* — среднее количество рейсов, прибывающих в город (*city*) за день в сентябре 2018 года.\n",
    "\n",
    " Для этих двух наборов данных нужно:\n",
    "\n",
    "- импортировать файлы;\n",
    "- изучить данные в них;\n",
    "- проверить типы данных на корректность;\n",
    "- выбрать топ-10 городов по количеству рейсов;\n",
    "- построить графики: модели самолётов и количество рейсов, города и количество рейсов, топ-10 городов и количество рейсов;\n",
    "- сделать выводы по каждому из графиков, пояснить результат.\n"
   ]
  },
  {
   "cell_type": "markdown",
   "metadata": {},
   "source": [
    "## Аналитика"
   ]
  },
  {
   "cell_type": "code",
   "execution_count": 1,
   "metadata": {},
   "outputs": [],
   "source": [
    "import pandas as pd\n",
    "import numpy as np\n",
    "import seaborn as sns\n",
    "import warnings\n",
    "import matplotlib.pyplot as plt\n",
    "from pyspark.sql import SparkSession"
   ]
  },
  {
   "cell_type": "code",
   "execution_count": 2,
   "metadata": {},
   "outputs": [],
   "source": [
    "warnings.filterwarnings(\"ignore\")"
   ]
  },
  {
   "cell_type": "code",
   "execution_count": 3,
   "metadata": {},
   "outputs": [
    {
     "data": {
      "text/html": [
       "<div>\n",
       "<style scoped>\n",
       "    .dataframe tbody tr th:only-of-type {\n",
       "        vertical-align: middle;\n",
       "    }\n",
       "\n",
       "    .dataframe tbody tr th {\n",
       "        vertical-align: top;\n",
       "    }\n",
       "\n",
       "    .dataframe thead th {\n",
       "        text-align: right;\n",
       "    }\n",
       "</style>\n",
       "<table border=\"1\" class=\"dataframe\">\n",
       "  <thead>\n",
       "    <tr style=\"text-align: right;\">\n",
       "      <th></th>\n",
       "      <th>model</th>\n",
       "      <th>flights_amount</th>\n",
       "    </tr>\n",
       "  </thead>\n",
       "  <tbody>\n",
       "    <tr>\n",
       "      <td>0</td>\n",
       "      <td>Airbus A319-100</td>\n",
       "      <td>607</td>\n",
       "    </tr>\n",
       "    <tr>\n",
       "      <td>1</td>\n",
       "      <td>Airbus A321-200</td>\n",
       "      <td>960</td>\n",
       "    </tr>\n",
       "    <tr>\n",
       "      <td>2</td>\n",
       "      <td>Boeing 737-300</td>\n",
       "      <td>630</td>\n",
       "    </tr>\n",
       "    <tr>\n",
       "      <td>3</td>\n",
       "      <td>Boeing 767-300</td>\n",
       "      <td>600</td>\n",
       "    </tr>\n",
       "    <tr>\n",
       "      <td>4</td>\n",
       "      <td>Boeing 777-300</td>\n",
       "      <td>300</td>\n",
       "    </tr>\n",
       "    <tr>\n",
       "      <td>5</td>\n",
       "      <td>Bombardier CRJ-200</td>\n",
       "      <td>4446</td>\n",
       "    </tr>\n",
       "    <tr>\n",
       "      <td>6</td>\n",
       "      <td>Cessna 208 Caravan</td>\n",
       "      <td>4557</td>\n",
       "    </tr>\n",
       "    <tr>\n",
       "      <td>7</td>\n",
       "      <td>Sukhoi SuperJet-100</td>\n",
       "      <td>4185</td>\n",
       "    </tr>\n",
       "  </tbody>\n",
       "</table>\n",
       "</div>"
      ],
      "text/plain": [
       "                 model  flights_amount\n",
       "0      Airbus A319-100             607\n",
       "1      Airbus A321-200             960\n",
       "2       Boeing 737-300             630\n",
       "3       Boeing 767-300             600\n",
       "4       Boeing 777-300             300\n",
       "5   Bombardier CRJ-200            4446\n",
       "6   Cessna 208 Caravan            4557\n",
       "7  Sukhoi SuperJet-100            4185"
      ]
     },
     "metadata": {},
     "output_type": "display_data"
    }
   ],
   "source": [
    "data1=pd.read_csv('/datasets/query_1.csv')\n",
    "display(data1)"
   ]
  },
  {
   "cell_type": "code",
   "execution_count": 4,
   "metadata": {},
   "outputs": [
    {
     "data": {
      "text/html": [
       "<div>\n",
       "<style scoped>\n",
       "    .dataframe tbody tr th:only-of-type {\n",
       "        vertical-align: middle;\n",
       "    }\n",
       "\n",
       "    .dataframe tbody tr th {\n",
       "        vertical-align: top;\n",
       "    }\n",
       "\n",
       "    .dataframe thead th {\n",
       "        text-align: right;\n",
       "    }\n",
       "</style>\n",
       "<table border=\"1\" class=\"dataframe\">\n",
       "  <thead>\n",
       "    <tr style=\"text-align: right;\">\n",
       "      <th></th>\n",
       "      <th>city</th>\n",
       "      <th>average_flights</th>\n",
       "    </tr>\n",
       "  </thead>\n",
       "  <tbody>\n",
       "    <tr>\n",
       "      <td>0</td>\n",
       "      <td>Абакан</td>\n",
       "      <td>3.870968</td>\n",
       "    </tr>\n",
       "    <tr>\n",
       "      <td>1</td>\n",
       "      <td>Анадырь</td>\n",
       "      <td>1.000000</td>\n",
       "    </tr>\n",
       "    <tr>\n",
       "      <td>2</td>\n",
       "      <td>Анапа</td>\n",
       "      <td>2.161290</td>\n",
       "    </tr>\n",
       "    <tr>\n",
       "      <td>3</td>\n",
       "      <td>Архангельск</td>\n",
       "      <td>5.354839</td>\n",
       "    </tr>\n",
       "    <tr>\n",
       "      <td>4</td>\n",
       "      <td>Астрахань</td>\n",
       "      <td>2.451613</td>\n",
       "    </tr>\n",
       "    <tr>\n",
       "      <td>...</td>\n",
       "      <td>...</td>\n",
       "      <td>...</td>\n",
       "    </tr>\n",
       "    <tr>\n",
       "      <td>96</td>\n",
       "      <td>Чита</td>\n",
       "      <td>1.580645</td>\n",
       "    </tr>\n",
       "    <tr>\n",
       "      <td>97</td>\n",
       "      <td>Элиста</td>\n",
       "      <td>4.870968</td>\n",
       "    </tr>\n",
       "    <tr>\n",
       "      <td>98</td>\n",
       "      <td>Южно-Сахалинск</td>\n",
       "      <td>4.290323</td>\n",
       "    </tr>\n",
       "    <tr>\n",
       "      <td>99</td>\n",
       "      <td>Якутск</td>\n",
       "      <td>2.741935</td>\n",
       "    </tr>\n",
       "    <tr>\n",
       "      <td>100</td>\n",
       "      <td>Ярославль</td>\n",
       "      <td>1.322581</td>\n",
       "    </tr>\n",
       "  </tbody>\n",
       "</table>\n",
       "<p>101 rows × 2 columns</p>\n",
       "</div>"
      ],
      "text/plain": [
       "               city  average_flights\n",
       "0            Абакан         3.870968\n",
       "1           Анадырь         1.000000\n",
       "2             Анапа         2.161290\n",
       "3       Архангельск         5.354839\n",
       "4         Астрахань         2.451613\n",
       "..              ...              ...\n",
       "96             Чита         1.580645\n",
       "97           Элиста         4.870968\n",
       "98   Южно-Сахалинск         4.290323\n",
       "99           Якутск         2.741935\n",
       "100       Ярославль         1.322581\n",
       "\n",
       "[101 rows x 2 columns]"
      ]
     },
     "metadata": {},
     "output_type": "display_data"
    }
   ],
   "source": [
    "data2=pd.read_csv('/datasets/query_3.csv')\n",
    "display(data2)"
   ]
  },
  {
   "cell_type": "code",
   "execution_count": 5,
   "metadata": {},
   "outputs": [
    {
     "name": "stdout",
     "output_type": "stream",
     "text": [
      "**Общая информация датафрейма**\n",
      "<class 'pandas.core.frame.DataFrame'>\n",
      "RangeIndex: 8 entries, 0 to 7\n",
      "Data columns (total 2 columns):\n",
      "model             8 non-null object\n",
      "flights_amount    8 non-null int64\n",
      "dtypes: int64(1), object(1)\n",
      "memory usage: 256.0+ bytes\n",
      "None\n",
      "-------------------------------------------------------------------------------------------------------------\n",
      "**Просмотр статистических данных**\n",
      "       flights_amount\n",
      "count        8.000000\n",
      "mean      2035.625000\n",
      "std       1965.203947\n",
      "min        300.000000\n",
      "25%        605.250000\n",
      "50%        795.000000\n",
      "75%       4250.250000\n",
      "max       4557.000000\n",
      "-------------------------------------------------------------------------------------------------------------\n",
      "**Вывод рандомных строк датафрейма**\n",
      "                 model  flights_amount\n",
      "7  Sukhoi SuperJet-100            4185\n",
      "2       Boeing 737-300             630\n",
      "1      Airbus A321-200             960\n",
      "-------------------------------------------------------------------------------------------------------------\n",
      "**Вывод первых пяти строк датафрейма**\n",
      "             model  flights_amount\n",
      "0  Airbus A319-100             607\n",
      "1  Airbus A321-200             960\n",
      "2   Boeing 737-300             630\n",
      "3   Boeing 767-300             600\n",
      "4   Boeing 777-300             300\n",
      "-------------------------------------------------------------------------------------------------------------\n",
      "**Вывод количесва дубликатов датафрейма**\n",
      "0\n",
      "-------------------------------------------------------------------------------------------------------------\n",
      "**Вывод количесва пропущеных значений датафрейма**\n",
      "model             0\n",
      "flights_amount    0\n",
      "dtype: int64\n",
      "-------------------------------------------------------------------------------------------------------------\n",
      "None\n",
      "*****************************************************************************************************************\n",
      "*****************************************************************************************************************\n",
      "*****************************************************************************************************************\n",
      "**Общая информация датафрейма**\n",
      "<class 'pandas.core.frame.DataFrame'>\n",
      "RangeIndex: 101 entries, 0 to 100\n",
      "Data columns (total 2 columns):\n",
      "city               101 non-null object\n",
      "average_flights    101 non-null float64\n",
      "dtypes: float64(1), object(1)\n",
      "memory usage: 1.7+ KB\n",
      "None\n",
      "-------------------------------------------------------------------------------------------------------------\n",
      "**Просмотр статистических данных**\n",
      "       average_flights\n",
      "count       101.000000\n",
      "mean          5.494189\n",
      "std          13.119790\n",
      "min           1.000000\n",
      "25%           2.000000\n",
      "50%           3.000000\n",
      "75%           5.870968\n",
      "max         129.774194\n",
      "-------------------------------------------------------------------------------------------------------------\n",
      "**Вывод рандомных строк датафрейма**\n",
      "         city  average_flights\n",
      "94  Челябинск         6.709677\n",
      "78  Сыктывкар         4.129032\n",
      "17  Геленджик         2.590909\n",
      "-------------------------------------------------------------------------------------------------------------\n",
      "**Вывод первых пяти строк датафрейма**\n",
      "          city  average_flights\n",
      "0       Абакан         3.870968\n",
      "1      Анадырь         1.000000\n",
      "2        Анапа         2.161290\n",
      "3  Архангельск         5.354839\n",
      "4    Астрахань         2.451613\n",
      "-------------------------------------------------------------------------------------------------------------\n",
      "**Вывод количесва дубликатов датафрейма**\n",
      "0\n",
      "-------------------------------------------------------------------------------------------------------------\n",
      "**Вывод количесва пропущеных значений датафрейма**\n",
      "city               0\n",
      "average_flights    0\n",
      "dtype: int64\n",
      "-------------------------------------------------------------------------------------------------------------\n",
      "None\n"
     ]
    }
   ],
   "source": [
    "def fun_date(data):\n",
    "    print('**Общая информация датафрейма**')\n",
    "    print(data.info())\n",
    "    print('-------------------------------------------------------------------------------------------------------------')\n",
    "    print('**Просмотр статистических данных**')\n",
    "    print(data.describe())\n",
    "    print('-------------------------------------------------------------------------------------------------------------')\n",
    "    print('**Вывод рандомных строк датафрейма**')\n",
    "    print(data.sample(n=3, random_state=1))\n",
    "    print('-------------------------------------------------------------------------------------------------------------')\n",
    "    print('**Вывод первых пяти строк датафрейма**')\n",
    "    print(data.head())\n",
    "    print('-------------------------------------------------------------------------------------------------------------')\n",
    "    print('**Вывод количесва дубликатов датафрейма**')\n",
    "    print(data.duplicated().sum())\n",
    "    print('-------------------------------------------------------------------------------------------------------------')\n",
    "    print('**Вывод количесва пропущеных значений датафрейма**')\n",
    "    print(data.isnull().sum())\n",
    "    #print(msno.heatmap(data))\n",
    "    print('-------------------------------------------------------------------------------------------------------------')\n",
    "print(fun_date(data1))\n",
    "print('*****************************************************************************************************************')\n",
    "print('*****************************************************************************************************************')\n",
    "print('*****************************************************************************************************************')\n",
    "print(fun_date(data2))"
   ]
  },
  {
   "cell_type": "markdown",
   "metadata": {},
   "source": [
    "<div class=\"alert alert-info\"> \n",
    "Файлы загружены и изучены. Типы данных в порядке, продолжем исследование.\n",
    "</div>"
   ]
  },
  {
   "cell_type": "code",
   "execution_count": 6,
   "metadata": {
    "scrolled": false
   },
   "outputs": [
    {
     "name": "stdout",
     "output_type": "stream",
     "text": [
      "Average memory usage for float columns: 0.00 MB\n",
      "Average memory usage for int columns: 0.00 MB\n",
      "Average memory usage for object columns: 0.01 MB\n",
      "None\n"
     ]
    }
   ],
   "source": [
    "def memory(data):\n",
    "    for dtype in ['float','int','object']:\n",
    "        selected_dtype = data.select_dtypes(include=[dtype])\n",
    "        mean_usage_b = selected_dtype.memory_usage(deep=True).mean()\n",
    "        mean_usage_mb = mean_usage_b / 1024 ** 2\n",
    "        print(\"Average memory usage for {} columns: {:03.2f} MB\".format(dtype,mean_usage_mb))\n",
    "print(memory(data2))\n"
   ]
  },
  {
   "cell_type": "code",
   "execution_count": 7,
   "metadata": {},
   "outputs": [
    {
     "name": "stdout",
     "output_type": "stream",
     "text": [
      "0.00 MB\n",
      "0.00 MB\n",
      "\n"
     ]
    },
    {
     "data": {
      "text/html": [
       "<div>\n",
       "<style scoped>\n",
       "    .dataframe tbody tr th:only-of-type {\n",
       "        vertical-align: middle;\n",
       "    }\n",
       "\n",
       "    .dataframe tbody tr th {\n",
       "        vertical-align: top;\n",
       "    }\n",
       "\n",
       "    .dataframe thead th {\n",
       "        text-align: right;\n",
       "    }\n",
       "</style>\n",
       "<table border=\"1\" class=\"dataframe\">\n",
       "  <thead>\n",
       "    <tr style=\"text-align: right;\">\n",
       "      <th></th>\n",
       "      <th>before</th>\n",
       "      <th>after</th>\n",
       "    </tr>\n",
       "  </thead>\n",
       "  <tbody>\n",
       "    <tr>\n",
       "      <td>float32</td>\n",
       "      <td>NaN</td>\n",
       "      <td>1.0</td>\n",
       "    </tr>\n",
       "    <tr>\n",
       "      <td>float64</td>\n",
       "      <td>1.0</td>\n",
       "      <td>NaN</td>\n",
       "    </tr>\n",
       "  </tbody>\n",
       "</table>\n",
       "</div>"
      ],
      "text/plain": [
       "         before  after\n",
       "float32     NaN    1.0\n",
       "float64     1.0    NaN"
      ]
     },
     "execution_count": 7,
     "metadata": {},
     "output_type": "execute_result"
    }
   ],
   "source": [
    "def mem_usage(pandas_obj):\n",
    "    if isinstance(pandas_obj,pd.DataFrame):\n",
    "        usage_b = pandas_obj.memory_usage(deep=True).sum()\n",
    "    else: # исходим из предположения о том, что если это не DataFrame, то это Series\n",
    "        usage_b = pandas_obj.memory_usage(deep=True)\n",
    "    usage_mb = usage_b / 1024 ** 2 # преобразуем байты в мегабайты\n",
    "    return \"{:03.2f} MB\".format(usage_mb)\n",
    "\n",
    "data_float = data2.select_dtypes(include=['float'])\n",
    "converted_float = data_float.apply(pd.to_numeric,downcast='float')\n",
    "\n",
    "\n",
    "print(mem_usage(data_float))\n",
    "print(mem_usage(converted_float))\n",
    "print()\n",
    "\n",
    "compare_floats = pd.concat([data_float.dtypes,converted_float.dtypes],axis=1)\n",
    "compare_floats.columns = ['before','after']\n",
    "compare_floats.apply(pd.Series.value_counts)"
   ]
  },
  {
   "cell_type": "code",
   "execution_count": 8,
   "metadata": {},
   "outputs": [
    {
     "name": "stdout",
     "output_type": "stream",
     "text": [
      "0.01 MB\n",
      "\n"
     ]
    }
   ],
   "source": [
    "data2 = data2.copy()\n",
    "data2[converted_float.columns] = converted_float\n",
    "print(mem_usage(data2))\n",
    "print()"
   ]
  },
  {
   "cell_type": "code",
   "execution_count": 9,
   "metadata": {
    "scrolled": false
   },
   "outputs": [
    {
     "name": "stdout",
     "output_type": "stream",
     "text": [
      "<class 'pandas.core.frame.DataFrame'>\n",
      "RangeIndex: 101 entries, 0 to 100\n",
      "Data columns (total 2 columns):\n",
      "city               101 non-null object\n",
      "average_flights    101 non-null float32\n",
      "dtypes: float32(1), object(1)\n",
      "memory usage: 12.0 KB\n"
     ]
    }
   ],
   "source": [
    "data2.info(memory_usage='deep')"
   ]
  },
  {
   "cell_type": "code",
   "execution_count": 10,
   "metadata": {},
   "outputs": [],
   "source": [
    "data2['average_flights'] = data2['average_flights'].astype('float16')"
   ]
  },
  {
   "cell_type": "code",
   "execution_count": 11,
   "metadata": {
    "scrolled": false
   },
   "outputs": [
    {
     "name": "stdout",
     "output_type": "stream",
     "text": [
      "<class 'pandas.core.frame.DataFrame'>\n",
      "RangeIndex: 101 entries, 0 to 100\n",
      "Data columns (total 2 columns):\n",
      "city               101 non-null object\n",
      "average_flights    101 non-null float16\n",
      "dtypes: float16(1), object(1)\n",
      "memory usage: 11.8 KB\n"
     ]
    }
   ],
   "source": [
    "data2.info(memory_usage='deep')"
   ]
  },
  {
   "cell_type": "markdown",
   "metadata": {},
   "source": [
    "## Топ 10 городов"
   ]
  },
  {
   "cell_type": "code",
   "execution_count": 12,
   "metadata": {},
   "outputs": [
    {
     "data": {
      "text/html": [
       "<div>\n",
       "<style scoped>\n",
       "    .dataframe tbody tr th:only-of-type {\n",
       "        vertical-align: middle;\n",
       "    }\n",
       "\n",
       "    .dataframe tbody tr th {\n",
       "        vertical-align: top;\n",
       "    }\n",
       "\n",
       "    .dataframe thead th {\n",
       "        text-align: right;\n",
       "    }\n",
       "</style>\n",
       "<table border=\"1\" class=\"dataframe\">\n",
       "  <thead>\n",
       "    <tr style=\"text-align: right;\">\n",
       "      <th></th>\n",
       "      <th>index</th>\n",
       "      <th>city</th>\n",
       "      <th>average_flights</th>\n",
       "    </tr>\n",
       "  </thead>\n",
       "  <tbody>\n",
       "    <tr>\n",
       "      <td>0</td>\n",
       "      <td>43</td>\n",
       "      <td>Москва</td>\n",
       "      <td>129.750000</td>\n",
       "    </tr>\n",
       "    <tr>\n",
       "      <td>1</td>\n",
       "      <td>70</td>\n",
       "      <td>Санкт-Петербург</td>\n",
       "      <td>31.156250</td>\n",
       "    </tr>\n",
       "    <tr>\n",
       "      <td>2</td>\n",
       "      <td>54</td>\n",
       "      <td>Новосибирск</td>\n",
       "      <td>17.328125</td>\n",
       "    </tr>\n",
       "    <tr>\n",
       "      <td>3</td>\n",
       "      <td>33</td>\n",
       "      <td>Красноярск</td>\n",
       "      <td>11.578125</td>\n",
       "    </tr>\n",
       "    <tr>\n",
       "      <td>4</td>\n",
       "      <td>20</td>\n",
       "      <td>Екатеринбург</td>\n",
       "      <td>11.320312</td>\n",
       "    </tr>\n",
       "    <tr>\n",
       "      <td>5</td>\n",
       "      <td>67</td>\n",
       "      <td>Ростов-на-Дону</td>\n",
       "      <td>10.195312</td>\n",
       "    </tr>\n",
       "    <tr>\n",
       "      <td>6</td>\n",
       "      <td>63</td>\n",
       "      <td>Пермь</td>\n",
       "      <td>10.132812</td>\n",
       "    </tr>\n",
       "    <tr>\n",
       "      <td>7</td>\n",
       "      <td>10</td>\n",
       "      <td>Брянск</td>\n",
       "      <td>10.000000</td>\n",
       "    </tr>\n",
       "    <tr>\n",
       "      <td>8</td>\n",
       "      <td>74</td>\n",
       "      <td>Сочи</td>\n",
       "      <td>9.609375</td>\n",
       "    </tr>\n",
       "    <tr>\n",
       "      <td>9</td>\n",
       "      <td>84</td>\n",
       "      <td>Ульяновск</td>\n",
       "      <td>9.578125</td>\n",
       "    </tr>\n",
       "  </tbody>\n",
       "</table>\n",
       "</div>"
      ],
      "text/plain": [
       "   index             city  average_flights\n",
       "0     43           Москва       129.750000\n",
       "1     70  Санкт-Петербург        31.156250\n",
       "2     54      Новосибирск        17.328125\n",
       "3     33       Красноярск        11.578125\n",
       "4     20     Екатеринбург        11.320312\n",
       "5     67   Ростов-на-Дону        10.195312\n",
       "6     63            Пермь        10.132812\n",
       "7     10           Брянск        10.000000\n",
       "8     74             Сочи         9.609375\n",
       "9     84        Ульяновск         9.578125"
      ]
     },
     "execution_count": 12,
     "metadata": {},
     "output_type": "execute_result"
    }
   ],
   "source": [
    "data2_top10 = data2.sort_values(by='average_flights',ascending=False).head(10)\n",
    "data2_top10 = data2_top10.reset_index()\n",
    "data2_top10"
   ]
  },
  {
   "cell_type": "markdown",
   "metadata": {},
   "source": [
    "<div class=\"alert alert-info\"> \n",
    "Выведен топ 10 городов по кличеству полетов за год.\n",
    "</div>"
   ]
  },
  {
   "cell_type": "markdown",
   "metadata": {},
   "source": [
    "## Зависимость количества полетов от модели самолета"
   ]
  },
  {
   "cell_type": "code",
   "execution_count": 13,
   "metadata": {},
   "outputs": [
    {
     "data": {
      "image/png": "[encoded data removed]",
      "text/plain": [
       "<Figure size 1080x360 with 1 Axes>"
      ]
     },
     "metadata": {
      "needs_background": "light"
     },
     "output_type": "display_data"
    }
   ],
   "source": [
    "plt.figure(figsize=(15, 5))\n",
    "plt.plot( 'model', 'flights_amount', data=data1, marker='o', markerfacecolor='blue', markersize=12, color='skyblue', linewidth=4)\n",
    "plt.legend()\n",
    "plt.xlabel('model')\n",
    "plt.ylabel('flights_amount')\n",
    "plt.title('«Модели самолётов и количество рейсов»')\n",
    "plt.show()"
   ]
  },
  {
   "cell_type": "markdown",
   "metadata": {},
   "source": [
    "<div class=\"alert alert-info\"> \n",
    "Можно заметить, что у Airbus и Boeing заметно малое количесво полетов относительно CRJ-200, Cessna 208 и Sukhoi 100. Это странно...Тут нужно рассматривать сезонность и тренды, по скольку у Airbus и Boeing налет часов в сутки составляет около 11, а у CRJ-200, Cessna 208 и Sukhoi 100 около 4-6. Следовательно Airbus и Boeing должны были показать больший результат. Но так же можно ответить, что зимой летают именно суперджеты, тк их вместимость меньше, чем у Airbus и Boeing и авиакомпании не выгодно заполнять полупустой самолет. Вобщем это все сводится к проверки гепотизы.\n",
    "</div>"
   ]
  },
  {
   "cell_type": "markdown",
   "metadata": {},
   "source": [
    "## Среднее количество полетов в каждый город"
   ]
  },
  {
   "cell_type": "code",
   "execution_count": 14,
   "metadata": {},
   "outputs": [
    {
     "data": {
      "image/png": "[encoded data removed]",
      "text/plain": [
       "<Figure size 1440x360 with 1 Axes>"
      ]
     },
     "metadata": {
      "needs_background": "light"
     },
     "output_type": "display_data"
    }
   ],
   "source": [
    "data2 = data2.sort_values('average_flights', ascending=False).plot.bar(x='city', y='average_flights', rot=90, figsize=(20, 5))\n",
    "plt.title('Среднее количество полетов в каждый город')\n",
    "plt.xlabel('city')\n",
    "plt.ylabel('average_flights')\n",
    "plt.show()"
   ]
  },
  {
   "cell_type": "markdown",
   "metadata": {},
   "source": [
    "<div class=\"alert alert-info\"> \n",
    "Очевидно, что в столице просходит большинсво авиарейсов, тк из дальних регионов вероятнее всего ехать поездом, исходя из ценового показателя. Но этих данных у нас нет, поэтому сделать вывод проблематично.\n",
    "</div>"
   ]
  },
  {
   "cell_type": "markdown",
   "metadata": {},
   "source": [
    "## Среднее количество рейсов за год в городах топ 10"
   ]
  },
  {
   "cell_type": "code",
   "execution_count": 15,
   "metadata": {},
   "outputs": [
    {
     "data": {
      "image/png": "[encoded data removed]",
      "text/plain": [
       "<Figure size 1440x360 with 1 Axes>"
      ]
     },
     "metadata": {
      "needs_background": "light"
     },
     "output_type": "display_data"
    }
   ],
   "source": [
    "data2_top10.plot.bar(x='city', y='average_flights', rot=90, figsize=(20, 5))\n",
    "plt.title('Топ-10 городов и среднее количество рейсов за год')\n",
    "plt.xlabel('city')\n",
    "plt.ylabel('average_flights')\n",
    "plt.show()"
   ]
  },
  {
   "cell_type": "markdown",
   "metadata": {},
   "source": [
    "<div class=\"alert alert-info\"> \n",
    "Ну тут похожая ситуация, в основном в крпунейших городах ЦАО происходит большинсвто полетов. Почему? Потому что у города с маленьким бюджетом нет возможности организовать фестиваль.\n",
    "</div>"
   ]
  },
  {
   "cell_type": "markdown",
   "metadata": {},
   "source": [
    "<div class=\"alert alert-info\"> \n",
    "Предположу, что Новосиб это крупнейшая авиаточка Сибири. Тк летают суперджеты(до 3000-4000км) - этот город возможно является точкой пересадки на другие направления.\n",
    "</div>\n"
   ]
  },
  {
   "cell_type": "markdown",
   "metadata": {},
   "source": [
    "## Общий вывод"
   ]
  },
  {
   "cell_type": "markdown",
   "metadata": {},
   "source": [
    "По результатам проделанной работы можно сказать, что Москва является крупнейшим городом по пассажиро-потоку...столица как-никак. \n",
    "    \n",
    "Но на самом деле все зависит от сезона прилета-отлета, потому что неьзя смело заявить, что сухой лучше боинга потому что на нем было много перевозок. Все зависит от расстояния и вместимости пассажиров. Эирбус и Боинг хороши в курортные сезоны, тк могут перевозить значительно большое количесво пассажиров и на больше расстояния, чего не скажешь про Сушку. Сушки хороши в холодное время, когда спрос на авиаперелеты не велик и пассажиропоток снижается.\n",
    "\n",
    "Также хотелось бы отметить выделевшиеся регионы Сибири и Урала. Вероятно всего они являют пересадочными пунктами из дальних регионов страны, для дальнейшего перемещения по стране или миру.\n"
   ]
  },
  {
   "cell_type": "code",
   "execution_count": null,
   "metadata": {},
   "outputs": [],
   "source": []
  }
 ],
 "metadata": {
  "ExecuteTimeLog": [
   {
    "duration": 1501,
    "start_time": "2021-11-02T11:47:35.808Z"
   },
   {
    "duration": 4,
    "start_time": "2021-11-02T11:47:38.889Z"
   },
   {
    "duration": 131,
    "start_time": "2021-11-02T11:48:16.736Z"
   },
   {
    "duration": 28,
    "start_time": "2021-11-02T11:48:54.761Z"
   },
   {
    "duration": 24,
    "start_time": "2021-11-02T11:49:00.350Z"
   },
   {
    "duration": 27,
    "start_time": "2021-11-02T11:49:16.792Z"
   },
   {
    "duration": 27,
    "start_time": "2021-11-02T11:50:00.728Z"
   },
   {
    "duration": 55,
    "start_time": "2021-11-02T11:50:31.040Z"
   },
   {
    "duration": 58,
    "start_time": "2021-11-02T11:51:07.784Z"
   },
   {
    "duration": 54,
    "start_time": "2021-11-02T11:51:22.815Z"
   },
   {
    "duration": 50,
    "start_time": "2021-11-02T11:57:55.477Z"
   },
   {
    "duration": 373,
    "start_time": "2021-11-02T11:58:34.396Z"
   },
   {
    "duration": 497,
    "start_time": "2021-11-02T11:58:39.756Z"
   },
   {
    "duration": 509,
    "start_time": "2021-11-02T11:58:59.243Z"
   },
   {
    "duration": 504,
    "start_time": "2021-11-02T11:59:05.980Z"
   },
   {
    "duration": 762,
    "start_time": "2021-11-02T11:59:18.044Z"
   },
   {
    "duration": 915,
    "start_time": "2021-11-02T11:59:39.339Z"
   },
   {
    "duration": 5005,
    "start_time": "2021-11-02T12:00:18.763Z"
   },
   {
    "duration": 517,
    "start_time": "2021-11-02T12:01:15.362Z"
   },
   {
    "duration": 394,
    "start_time": "2021-11-02T12:01:25.818Z"
   },
   {
    "duration": 415,
    "start_time": "2021-11-02T12:02:02.219Z"
   },
   {
    "duration": 546,
    "start_time": "2021-11-02T12:03:09.194Z"
   },
   {
    "duration": 237,
    "start_time": "2021-11-02T12:03:58.384Z"
   },
   {
    "duration": 258,
    "start_time": "2021-11-02T12:05:07.441Z"
   },
   {
    "duration": 305,
    "start_time": "2021-11-02T12:05:29.624Z"
   },
   {
    "duration": 299,
    "start_time": "2021-11-02T12:05:57.976Z"
   },
   {
    "duration": 296,
    "start_time": "2021-11-02T12:06:02.751Z"
   },
   {
    "duration": 58,
    "start_time": "2021-11-02T12:06:36.631Z"
   },
   {
    "duration": 53,
    "start_time": "2021-11-02T12:07:03.215Z"
   },
   {
    "duration": 6,
    "start_time": "2021-11-02T12:10:49.583Z"
   },
   {
    "duration": 16,
    "start_time": "2021-11-02T12:10:53.005Z"
   },
   {
    "duration": 11,
    "start_time": "2021-11-02T12:11:22.830Z"
   },
   {
    "duration": 17,
    "start_time": "2021-11-02T12:13:52.261Z"
   },
   {
    "duration": 8,
    "start_time": "2021-11-02T12:14:02.028Z"
   },
   {
    "duration": 739,
    "start_time": "2021-11-02T12:14:09.516Z"
   },
   {
    "duration": 18,
    "start_time": "2021-11-02T12:15:17.860Z"
   },
   {
    "duration": 14,
    "start_time": "2021-11-02T12:15:33.503Z"
   },
   {
    "duration": 9,
    "start_time": "2021-11-02T12:15:41.188Z"
   },
   {
    "duration": 11,
    "start_time": "2021-11-02T12:15:45.436Z"
   },
   {
    "duration": 15,
    "start_time": "2021-11-02T12:15:52.442Z"
   },
   {
    "duration": 517,
    "start_time": "2021-11-02T12:38:27.208Z"
   },
   {
    "duration": 254,
    "start_time": "2021-11-02T12:38:51.743Z"
   },
   {
    "duration": 1142,
    "start_time": "2021-11-02T12:39:24.654Z"
   },
   {
    "duration": 789,
    "start_time": "2021-11-02T12:40:06.383Z"
   },
   {
    "duration": 492,
    "start_time": "2021-11-02T12:40:26.422Z"
   },
   {
    "duration": 227,
    "start_time": "2021-11-02T12:41:30.150Z"
   },
   {
    "duration": 457,
    "start_time": "2021-11-02T12:41:35.549Z"
   },
   {
    "duration": 647,
    "start_time": "2021-11-02T12:41:58.661Z"
   },
   {
    "duration": 494,
    "start_time": "2021-11-02T12:42:05.125Z"
   },
   {
    "duration": 336,
    "start_time": "2021-11-02T12:42:16.573Z"
   },
   {
    "duration": 361,
    "start_time": "2021-11-02T12:43:04.789Z"
   },
   {
    "duration": 376,
    "start_time": "2021-11-02T12:43:16.429Z"
   },
   {
    "duration": 550,
    "start_time": "2021-11-02T12:43:47.356Z"
   },
   {
    "duration": 1984,
    "start_time": "2021-11-02T12:43:52.828Z"
   },
   {
    "duration": 2116,
    "start_time": "2021-11-02T12:44:10.980Z"
   },
   {
    "duration": 2061,
    "start_time": "2021-11-02T12:44:42.732Z"
   },
   {
    "duration": 460,
    "start_time": "2021-11-02T12:45:04.835Z"
   },
   {
    "duration": 282,
    "start_time": "2021-11-02T12:46:14.755Z"
   },
   {
    "duration": 1497,
    "start_time": "2021-11-02T12:48:53.657Z"
   },
   {
    "duration": 365,
    "start_time": "2021-11-02T12:50:39.560Z"
   },
   {
    "duration": 949,
    "start_time": "2021-11-02T12:52:48.672Z"
   },
   {
    "duration": 637,
    "start_time": "2021-11-02T12:52:58.550Z"
   },
   {
    "duration": 1636,
    "start_time": "2021-11-02T12:53:06.232Z"
   },
   {
    "duration": 4,
    "start_time": "2021-11-02T12:53:07.871Z"
   },
   {
    "duration": 40,
    "start_time": "2021-11-02T12:53:07.878Z"
   },
   {
    "duration": 33,
    "start_time": "2021-11-02T12:53:07.921Z"
   },
   {
    "duration": 15,
    "start_time": "2021-11-02T12:53:07.957Z"
   },
   {
    "duration": 505,
    "start_time": "2021-11-02T12:53:07.974Z"
   },
   {
    "duration": 2599,
    "start_time": "2021-11-02T12:53:08.481Z"
   },
   {
    "duration": 2441,
    "start_time": "2021-11-02T12:54:45.915Z"
   },
   {
    "duration": 351,
    "start_time": "2021-11-02T12:55:13.345Z"
   },
   {
    "duration": 382,
    "start_time": "2021-11-02T12:55:17.401Z"
   },
   {
    "duration": 1620,
    "start_time": "2021-11-02T12:55:30.720Z"
   },
   {
    "duration": 5,
    "start_time": "2021-11-02T12:55:32.343Z"
   },
   {
    "duration": 30,
    "start_time": "2021-11-02T12:55:32.352Z"
   },
   {
    "duration": 31,
    "start_time": "2021-11-02T12:55:32.385Z"
   },
   {
    "duration": 23,
    "start_time": "2021-11-02T12:55:32.419Z"
   },
   {
    "duration": 379,
    "start_time": "2021-11-02T12:55:32.444Z"
   },
   {
    "duration": 2321,
    "start_time": "2021-11-02T12:55:32.828Z"
   },
   {
    "duration": 386,
    "start_time": "2021-11-02T12:56:38.761Z"
   },
   {
    "duration": 457,
    "start_time": "2021-11-02T12:56:55.345Z"
   },
   {
    "duration": 529,
    "start_time": "2021-11-02T12:57:13.888Z"
   },
   {
    "duration": 617,
    "start_time": "2021-11-02T12:57:23.033Z"
   },
   {
    "duration": 372,
    "start_time": "2021-11-02T12:57:43.946Z"
   },
   {
    "duration": 457,
    "start_time": "2021-11-02T12:59:54.243Z"
   },
   {
    "duration": 948,
    "start_time": "2021-11-02T12:59:59.887Z"
   },
   {
    "duration": 237,
    "start_time": "2021-11-02T13:00:14.752Z"
   },
   {
    "duration": 230,
    "start_time": "2021-11-02T13:00:37.951Z"
   },
   {
    "duration": 1590,
    "start_time": "2021-11-02T13:01:09.434Z"
   },
   {
    "duration": 3,
    "start_time": "2021-11-02T13:01:11.027Z"
   },
   {
    "duration": 34,
    "start_time": "2021-11-02T13:01:11.037Z"
   },
   {
    "duration": 45,
    "start_time": "2021-11-02T13:01:11.073Z"
   },
   {
    "duration": 27,
    "start_time": "2021-11-02T13:01:11.121Z"
   },
   {
    "duration": 373,
    "start_time": "2021-11-02T13:01:11.151Z"
   },
   {
    "duration": 2433,
    "start_time": "2021-11-02T13:01:11.530Z"
   },
   {
    "duration": 492,
    "start_time": "2021-11-02T13:01:13.965Z"
   },
   {
    "duration": 1634,
    "start_time": "2021-11-02T13:24:57.016Z"
   },
   {
    "duration": 4,
    "start_time": "2021-11-02T13:24:58.652Z"
   },
   {
    "duration": 29,
    "start_time": "2021-11-02T13:24:58.660Z"
   },
   {
    "duration": 38,
    "start_time": "2021-11-02T13:24:58.693Z"
   },
   {
    "duration": 58,
    "start_time": "2021-11-02T13:24:58.734Z"
   },
   {
    "duration": 47,
    "start_time": "2021-11-02T13:24:58.794Z"
   },
   {
    "duration": 388,
    "start_time": "2021-11-02T13:24:58.843Z"
   },
   {
    "duration": 2511,
    "start_time": "2021-11-02T13:24:59.234Z"
   },
   {
    "duration": 722,
    "start_time": "2021-11-02T13:25:01.749Z"
   },
   {
    "duration": 382,
    "start_time": "2021-11-02T16:37:39.656Z"
   },
   {
    "duration": 235,
    "start_time": "2021-11-02T16:37:49.578Z"
   },
   {
    "duration": 241,
    "start_time": "2021-11-02T16:47:06.302Z"
   },
   {
    "duration": 1591,
    "start_time": "2021-11-02T16:47:15.133Z"
   },
   {
    "duration": 4,
    "start_time": "2021-11-02T16:47:16.726Z"
   },
   {
    "duration": 31,
    "start_time": "2021-11-02T16:47:16.733Z"
   },
   {
    "duration": 24,
    "start_time": "2021-11-02T16:47:16.767Z"
   },
   {
    "duration": 68,
    "start_time": "2021-11-02T16:47:16.794Z"
   },
   {
    "duration": 14,
    "start_time": "2021-11-02T16:47:16.864Z"
   },
   {
    "duration": 383,
    "start_time": "2021-11-02T16:47:16.881Z"
   },
   {
    "duration": 368,
    "start_time": "2021-11-02T16:47:17.268Z"
   },
   {
    "duration": -901,
    "start_time": "2021-11-02T16:47:18.539Z"
   },
   {
    "duration": 2419,
    "start_time": "2021-11-02T16:48:59.028Z"
   },
   {
    "duration": 221,
    "start_time": "2021-11-02T16:49:21.644Z"
   },
   {
    "duration": 239,
    "start_time": "2021-11-02T16:49:27.092Z"
   },
   {
    "duration": 231,
    "start_time": "2021-11-02T16:50:02.972Z"
   },
   {
    "duration": 243,
    "start_time": "2021-11-02T16:50:41.044Z"
   },
   {
    "duration": 344,
    "start_time": "2021-11-02T16:50:44.868Z"
   },
   {
    "duration": 252,
    "start_time": "2021-11-02T16:51:05.155Z"
   },
   {
    "duration": 1574,
    "start_time": "2021-11-02T16:51:14.445Z"
   },
   {
    "duration": 4,
    "start_time": "2021-11-02T16:51:16.022Z"
   },
   {
    "duration": 33,
    "start_time": "2021-11-02T16:51:16.031Z"
   },
   {
    "duration": 36,
    "start_time": "2021-11-02T16:51:16.067Z"
   },
   {
    "duration": 58,
    "start_time": "2021-11-02T16:51:16.106Z"
   },
   {
    "duration": 14,
    "start_time": "2021-11-02T16:51:16.167Z"
   },
   {
    "duration": 402,
    "start_time": "2021-11-02T16:51:16.185Z"
   },
   {
    "duration": 2379,
    "start_time": "2021-11-02T16:51:16.590Z"
   },
   {
    "duration": 357,
    "start_time": "2021-11-02T16:51:18.972Z"
   },
   {
    "duration": -886,
    "start_time": "2021-11-02T16:51:20.218Z"
   },
   {
    "duration": 216,
    "start_time": "2021-11-02T16:54:58.550Z"
   },
   {
    "duration": 4,
    "start_time": "2021-11-02T16:57:30.628Z"
   },
   {
    "duration": 6,
    "start_time": "2021-11-02T16:57:33.359Z"
   },
   {
    "duration": 283,
    "start_time": "2021-11-02T16:57:46.932Z"
   },
   {
    "duration": 217,
    "start_time": "2021-11-02T16:57:59.667Z"
   },
   {
    "duration": 1552,
    "start_time": "2021-11-02T16:58:13.279Z"
   },
   {
    "duration": 3,
    "start_time": "2021-11-02T16:58:14.834Z"
   },
   {
    "duration": 29,
    "start_time": "2021-11-02T16:58:14.840Z"
   },
   {
    "duration": 26,
    "start_time": "2021-11-02T16:58:14.872Z"
   },
   {
    "duration": 63,
    "start_time": "2021-11-02T16:58:14.901Z"
   },
   {
    "duration": 14,
    "start_time": "2021-11-02T16:58:14.966Z"
   },
   {
    "duration": 389,
    "start_time": "2021-11-02T16:58:14.982Z"
   },
   {
    "duration": 2465,
    "start_time": "2021-11-02T16:58:15.374Z"
   },
   {
    "duration": 507,
    "start_time": "2021-11-02T16:58:17.842Z"
   },
   {
    "duration": 4,
    "start_time": "2021-11-02T16:58:36.126Z"
   },
   {
    "duration": 5,
    "start_time": "2021-11-02T16:58:39.110Z"
   },
   {
    "duration": 5,
    "start_time": "2021-11-02T16:58:48.511Z"
   },
   {
    "duration": 5,
    "start_time": "2021-11-02T16:58:51.024Z"
   },
   {
    "duration": 530,
    "start_time": "2021-11-02T16:58:51.364Z"
   },
   {
    "duration": 6,
    "start_time": "2021-11-02T16:59:17.087Z"
   },
   {
    "duration": 1658,
    "start_time": "2021-11-02T16:59:33.886Z"
   },
   {
    "duration": 3,
    "start_time": "2021-11-02T16:59:35.547Z"
   },
   {
    "duration": 28,
    "start_time": "2021-11-02T16:59:35.555Z"
   },
   {
    "duration": 41,
    "start_time": "2021-11-02T16:59:35.587Z"
   },
   {
    "duration": 60,
    "start_time": "2021-11-02T16:59:35.631Z"
   },
   {
    "duration": 38,
    "start_time": "2021-11-02T16:59:35.693Z"
   },
   {
    "duration": 15,
    "start_time": "2021-11-02T16:59:35.734Z"
   },
   {
    "duration": 385,
    "start_time": "2021-11-02T16:59:35.752Z"
   },
   {
    "duration": 2779,
    "start_time": "2021-11-02T16:59:36.140Z"
   },
   {
    "duration": 463,
    "start_time": "2021-11-02T16:59:38.922Z"
   },
   {
    "duration": 363,
    "start_time": "2021-11-02T17:00:18.490Z"
   },
   {
    "duration": 229,
    "start_time": "2021-11-02T17:00:33.226Z"
   },
   {
    "duration": 221,
    "start_time": "2021-11-02T17:02:19.440Z"
   },
   {
    "duration": 252,
    "start_time": "2021-11-02T17:15:25.993Z"
   },
   {
    "duration": 1555,
    "start_time": "2021-11-02T17:15:37.890Z"
   },
   {
    "duration": 4,
    "start_time": "2021-11-02T17:15:39.447Z"
   },
   {
    "duration": 27,
    "start_time": "2021-11-02T17:15:39.458Z"
   },
   {
    "duration": 40,
    "start_time": "2021-11-02T17:15:39.488Z"
   },
   {
    "duration": 56,
    "start_time": "2021-11-02T17:15:39.531Z"
   },
   {
    "duration": 39,
    "start_time": "2021-11-02T17:15:39.590Z"
   },
   {
    "duration": 13,
    "start_time": "2021-11-02T17:15:39.632Z"
   },
   {
    "duration": 385,
    "start_time": "2021-11-02T17:15:39.648Z"
   },
   {
    "duration": 2355,
    "start_time": "2021-11-02T17:15:40.035Z"
   },
   {
    "duration": 471,
    "start_time": "2021-11-02T17:15:42.393Z"
   },
   {
    "duration": 377,
    "start_time": "2021-11-02T17:16:28.848Z"
   },
   {
    "duration": 1572,
    "start_time": "2021-11-02T17:17:10.730Z"
   },
   {
    "duration": 4,
    "start_time": "2021-11-02T17:17:12.304Z"
   },
   {
    "duration": 29,
    "start_time": "2021-11-02T17:17:12.314Z"
   },
   {
    "duration": 27,
    "start_time": "2021-11-02T17:17:12.346Z"
   },
   {
    "duration": 77,
    "start_time": "2021-11-02T17:17:12.376Z"
   },
   {
    "duration": 9,
    "start_time": "2021-11-02T17:17:12.456Z"
   },
   {
    "duration": 23,
    "start_time": "2021-11-02T17:17:12.469Z"
   },
   {
    "duration": 395,
    "start_time": "2021-11-02T17:17:12.494Z"
   },
   {
    "duration": 2408,
    "start_time": "2021-11-02T17:17:12.891Z"
   },
   {
    "duration": 480,
    "start_time": "2021-11-02T17:17:15.301Z"
   },
   {
    "duration": 359,
    "start_time": "2021-11-02T17:17:32.351Z"
   },
   {
    "duration": 219,
    "start_time": "2021-11-02T17:19:44.317Z"
   },
   {
    "duration": 1598,
    "start_time": "2021-11-02T17:19:48.944Z"
   },
   {
    "duration": 4,
    "start_time": "2021-11-02T17:19:50.544Z"
   },
   {
    "duration": 42,
    "start_time": "2021-11-02T17:19:50.551Z"
   },
   {
    "duration": 37,
    "start_time": "2021-11-02T17:19:50.595Z"
   },
   {
    "duration": 59,
    "start_time": "2021-11-02T17:19:50.634Z"
   },
   {
    "duration": 36,
    "start_time": "2021-11-02T17:19:50.696Z"
   },
   {
    "duration": 22,
    "start_time": "2021-11-02T17:19:50.734Z"
   },
   {
    "duration": 388,
    "start_time": "2021-11-02T17:19:50.758Z"
   },
   {
    "duration": 2489,
    "start_time": "2021-11-02T17:19:51.151Z"
   },
   {
    "duration": 482,
    "start_time": "2021-11-02T17:19:53.643Z"
   },
   {
    "duration": 389,
    "start_time": "2021-11-02T17:20:13.863Z"
   },
   {
    "duration": 1680,
    "start_time": "2021-11-02T17:20:21.994Z"
   },
   {
    "duration": 4,
    "start_time": "2021-11-02T17:20:23.676Z"
   },
   {
    "duration": 30,
    "start_time": "2021-11-02T17:20:23.683Z"
   },
   {
    "duration": 26,
    "start_time": "2021-11-02T17:20:23.715Z"
   },
   {
    "duration": 54,
    "start_time": "2021-11-02T17:20:23.743Z"
   },
   {
    "duration": 29,
    "start_time": "2021-11-02T17:20:23.799Z"
   },
   {
    "duration": 15,
    "start_time": "2021-11-02T17:20:23.832Z"
   },
   {
    "duration": 405,
    "start_time": "2021-11-02T17:20:23.851Z"
   },
   {
    "duration": 2393,
    "start_time": "2021-11-02T17:20:24.259Z"
   },
   {
    "duration": 475,
    "start_time": "2021-11-02T17:20:26.654Z"
   },
   {
    "duration": 362,
    "start_time": "2021-11-02T17:20:39.550Z"
   },
   {
    "duration": 1570,
    "start_time": "2021-11-02T17:20:45.555Z"
   },
   {
    "duration": 3,
    "start_time": "2021-11-02T17:20:47.128Z"
   },
   {
    "duration": 35,
    "start_time": "2021-11-02T17:20:47.134Z"
   },
   {
    "duration": 29,
    "start_time": "2021-11-02T17:20:47.172Z"
   },
   {
    "duration": 66,
    "start_time": "2021-11-02T17:20:47.203Z"
   },
   {
    "duration": 649,
    "start_time": "2021-11-02T17:20:47.272Z"
   },
   {
    "duration": -1449,
    "start_time": "2021-11-02T17:20:49.372Z"
   },
   {
    "duration": -1448,
    "start_time": "2021-11-02T17:20:49.373Z"
   },
   {
    "duration": -1448,
    "start_time": "2021-11-02T17:20:49.375Z"
   },
   {
    "duration": -1448,
    "start_time": "2021-11-02T17:20:49.376Z"
   },
   {
    "duration": 2874,
    "start_time": "2021-11-02T17:22:35.398Z"
   },
   {
    "duration": 1603,
    "start_time": "2021-11-02T17:24:06.718Z"
   },
   {
    "duration": 8,
    "start_time": "2021-11-02T17:24:08.323Z"
   },
   {
    "duration": 31,
    "start_time": "2021-11-02T17:24:08.334Z"
   },
   {
    "duration": 28,
    "start_time": "2021-11-02T17:24:08.369Z"
   },
   {
    "duration": 79,
    "start_time": "2021-11-02T17:24:08.401Z"
   },
   {
    "duration": 7,
    "start_time": "2021-11-02T17:24:08.483Z"
   },
   {
    "duration": 51,
    "start_time": "2021-11-02T17:24:08.494Z"
   },
   {
    "duration": 391,
    "start_time": "2021-11-02T17:24:08.548Z"
   },
   {
    "duration": 2356,
    "start_time": "2021-11-02T17:24:08.942Z"
   },
   {
    "duration": 485,
    "start_time": "2021-11-02T17:24:11.301Z"
   },
   {
    "duration": 365,
    "start_time": "2021-11-02T17:26:57.475Z"
   },
   {
    "duration": 1575,
    "start_time": "2021-11-02T17:27:02.840Z"
   },
   {
    "duration": 3,
    "start_time": "2021-11-02T17:27:04.418Z"
   },
   {
    "duration": 29,
    "start_time": "2021-11-02T17:27:04.429Z"
   },
   {
    "duration": 25,
    "start_time": "2021-11-02T17:27:04.460Z"
   },
   {
    "duration": 59,
    "start_time": "2021-11-02T17:27:04.488Z"
   },
   {
    "duration": 369,
    "start_time": "2021-11-02T17:27:04.550Z"
   },
   {
    "duration": -904,
    "start_time": "2021-11-02T17:27:05.826Z"
   },
   {
    "duration": -905,
    "start_time": "2021-11-02T17:27:05.828Z"
   },
   {
    "duration": -904,
    "start_time": "2021-11-02T17:27:05.829Z"
   },
   {
    "duration": -905,
    "start_time": "2021-11-02T17:27:05.831Z"
   },
   {
    "duration": 236,
    "start_time": "2021-11-02T17:28:16.821Z"
   },
   {
    "duration": 18,
    "start_time": "2021-11-02T17:28:26.381Z"
   },
   {
    "duration": 257,
    "start_time": "2021-11-02T17:28:54.813Z"
   },
   {
    "duration": 31,
    "start_time": "2021-11-02T17:29:00.564Z"
   },
   {
    "duration": 30,
    "start_time": "2021-11-02T17:29:22.594Z"
   },
   {
    "duration": 10,
    "start_time": "2021-11-02T17:29:34.908Z"
   },
   {
    "duration": 8,
    "start_time": "2021-11-02T17:29:36.876Z"
   },
   {
    "duration": 8,
    "start_time": "2021-11-02T17:29:47.212Z"
   },
   {
    "duration": 23,
    "start_time": "2021-11-02T17:30:48.529Z"
   },
   {
    "duration": 7,
    "start_time": "2021-11-02T17:30:55.675Z"
   },
   {
    "duration": 9,
    "start_time": "2021-11-02T17:30:58.594Z"
   },
   {
    "duration": 7,
    "start_time": "2021-11-02T17:31:37.403Z"
   },
   {
    "duration": 8,
    "start_time": "2021-11-02T17:31:37.906Z"
   },
   {
    "duration": 8,
    "start_time": "2021-11-02T17:32:02.083Z"
   },
   {
    "duration": 5589,
    "start_time": "2021-11-02T17:35:17.417Z"
   },
   {
    "duration": 5559,
    "start_time": "2021-11-02T17:35:34.873Z"
   },
   {
    "duration": 235,
    "start_time": "2021-11-02T17:36:03.137Z"
   },
   {
    "duration": 7,
    "start_time": "2021-11-02T17:36:29.344Z"
   },
   {
    "duration": 1541,
    "start_time": "2021-11-02T17:39:11.784Z"
   },
   {
    "duration": 3,
    "start_time": "2021-11-02T17:39:13.330Z"
   },
   {
    "duration": 37,
    "start_time": "2021-11-02T17:39:13.340Z"
   },
   {
    "duration": 34,
    "start_time": "2021-11-02T17:39:13.379Z"
   },
   {
    "duration": 58,
    "start_time": "2021-11-02T17:39:13.416Z"
   },
   {
    "duration": 18,
    "start_time": "2021-11-02T17:39:13.476Z"
   },
   {
    "duration": 55,
    "start_time": "2021-11-02T17:39:13.497Z"
   },
   {
    "duration": 390,
    "start_time": "2021-11-02T17:39:13.556Z"
   },
   {
    "duration": -918,
    "start_time": "2021-11-02T17:39:14.866Z"
   },
   {
    "duration": -918,
    "start_time": "2021-11-02T17:39:14.867Z"
   },
   {
    "duration": -918,
    "start_time": "2021-11-02T17:39:14.868Z"
   },
   {
    "duration": -918,
    "start_time": "2021-11-02T17:39:14.870Z"
   },
   {
    "duration": -917,
    "start_time": "2021-11-02T17:39:14.871Z"
   },
   {
    "duration": -917,
    "start_time": "2021-11-02T17:39:14.872Z"
   },
   {
    "duration": 1588,
    "start_time": "2021-11-02T17:39:29.374Z"
   },
   {
    "duration": 4,
    "start_time": "2021-11-02T17:39:30.964Z"
   },
   {
    "duration": 37,
    "start_time": "2021-11-02T17:39:30.971Z"
   },
   {
    "duration": 27,
    "start_time": "2021-11-02T17:39:31.011Z"
   },
   {
    "duration": 61,
    "start_time": "2021-11-02T17:39:31.040Z"
   },
   {
    "duration": 34,
    "start_time": "2021-11-02T17:39:31.103Z"
   },
   {
    "duration": 45,
    "start_time": "2021-11-02T17:39:31.140Z"
   },
   {
    "duration": 10,
    "start_time": "2021-11-02T17:39:31.188Z"
   },
   {
    "duration": 31,
    "start_time": "2021-11-02T17:39:31.201Z"
   },
   {
    "duration": 15,
    "start_time": "2021-11-02T17:39:31.235Z"
   },
   {
    "duration": 18,
    "start_time": "2021-11-02T17:39:31.253Z"
   },
   {
    "duration": 389,
    "start_time": "2021-11-02T17:39:31.273Z"
   },
   {
    "duration": 2377,
    "start_time": "2021-11-02T17:39:31.664Z"
   },
   {
    "duration": 480,
    "start_time": "2021-11-02T17:39:34.043Z"
   },
   {
    "duration": 369,
    "start_time": "2021-11-02T17:39:54.410Z"
   },
   {
    "duration": 292,
    "start_time": "2021-11-02T17:40:07.156Z"
   },
   {
    "duration": 1591,
    "start_time": "2021-11-02T17:40:11.538Z"
   },
   {
    "duration": 4,
    "start_time": "2021-11-02T17:40:13.133Z"
   },
   {
    "duration": 35,
    "start_time": "2021-11-02T17:40:13.142Z"
   },
   {
    "duration": 32,
    "start_time": "2021-11-02T17:40:13.180Z"
   },
   {
    "duration": 54,
    "start_time": "2021-11-02T17:40:13.214Z"
   },
   {
    "duration": 20,
    "start_time": "2021-11-02T17:40:13.270Z"
   },
   {
    "duration": 57,
    "start_time": "2021-11-02T17:40:13.293Z"
   },
   {
    "duration": 6,
    "start_time": "2021-11-02T17:40:13.353Z"
   },
   {
    "duration": 27,
    "start_time": "2021-11-02T17:40:13.363Z"
   },
   {
    "duration": 14,
    "start_time": "2021-11-02T17:40:13.393Z"
   },
   {
    "duration": 23,
    "start_time": "2021-11-02T17:40:13.410Z"
   },
   {
    "duration": 21,
    "start_time": "2021-11-02T17:40:13.436Z"
   },
   {
    "duration": 376,
    "start_time": "2021-11-02T17:40:13.460Z"
   },
   {
    "duration": 2343,
    "start_time": "2021-11-02T17:40:13.838Z"
   },
   {
    "duration": 474,
    "start_time": "2021-11-02T17:40:16.184Z"
   },
   {
    "duration": 1573,
    "start_time": "2021-11-02T17:40:53.866Z"
   },
   {
    "duration": 4,
    "start_time": "2021-11-02T17:40:55.442Z"
   },
   {
    "duration": 32,
    "start_time": "2021-11-02T17:40:55.449Z"
   },
   {
    "duration": 40,
    "start_time": "2021-11-02T17:40:55.483Z"
   },
   {
    "duration": 60,
    "start_time": "2021-11-02T17:40:55.526Z"
   },
   {
    "duration": 19,
    "start_time": "2021-11-02T17:40:55.589Z"
   },
   {
    "duration": 37,
    "start_time": "2021-11-02T17:40:55.630Z"
   },
   {
    "duration": 8,
    "start_time": "2021-11-02T17:40:55.672Z"
   },
   {
    "duration": 29,
    "start_time": "2021-11-02T17:40:55.682Z"
   },
   {
    "duration": 4,
    "start_time": "2021-11-02T17:40:55.729Z"
   },
   {
    "duration": 387,
    "start_time": "2021-11-02T17:40:55.736Z"
   },
   {
    "duration": -928,
    "start_time": "2021-11-02T17:40:57.053Z"
   },
   {
    "duration": -927,
    "start_time": "2021-11-02T17:40:57.054Z"
   },
   {
    "duration": -927,
    "start_time": "2021-11-02T17:40:57.055Z"
   },
   {
    "duration": -927,
    "start_time": "2021-11-02T17:40:57.056Z"
   },
   {
    "duration": 1619,
    "start_time": "2021-11-02T17:41:31.918Z"
   },
   {
    "duration": 4,
    "start_time": "2021-11-02T17:41:33.539Z"
   },
   {
    "duration": 38,
    "start_time": "2021-11-02T17:41:33.546Z"
   },
   {
    "duration": 40,
    "start_time": "2021-11-02T17:41:33.587Z"
   },
   {
    "duration": 54,
    "start_time": "2021-11-02T17:41:33.630Z"
   },
   {
    "duration": 16,
    "start_time": "2021-11-02T17:41:33.687Z"
   },
   {
    "duration": 36,
    "start_time": "2021-11-02T17:41:33.730Z"
   },
   {
    "duration": 7,
    "start_time": "2021-11-02T17:41:33.768Z"
   },
   {
    "duration": 17,
    "start_time": "2021-11-02T17:41:33.779Z"
   },
   {
    "duration": 6,
    "start_time": "2021-11-02T17:41:33.799Z"
   },
   {
    "duration": 8,
    "start_time": "2021-11-02T17:41:33.829Z"
   },
   {
    "duration": 17,
    "start_time": "2021-11-02T17:41:33.839Z"
   },
   {
    "duration": 397,
    "start_time": "2021-11-02T17:41:33.858Z"
   },
   {
    "duration": 2360,
    "start_time": "2021-11-02T17:41:34.258Z"
   },
   {
    "duration": 488,
    "start_time": "2021-11-02T17:41:36.621Z"
   },
   {
    "duration": 5,
    "start_time": "2021-11-02T17:42:44.479Z"
   },
   {
    "duration": 2096,
    "start_time": "2021-11-02T18:08:51.926Z"
   },
   {
    "duration": 5,
    "start_time": "2021-11-02T18:08:54.025Z"
   },
   {
    "duration": 47,
    "start_time": "2021-11-02T18:08:54.033Z"
   },
   {
    "duration": 30,
    "start_time": "2021-11-02T18:08:54.083Z"
   },
   {
    "duration": 63,
    "start_time": "2021-11-02T18:08:54.116Z"
   },
   {
    "duration": 18,
    "start_time": "2021-11-02T18:08:54.181Z"
   },
   {
    "duration": 52,
    "start_time": "2021-11-02T18:08:54.201Z"
   },
   {
    "duration": 8,
    "start_time": "2021-11-02T18:08:54.256Z"
   },
   {
    "duration": 19,
    "start_time": "2021-11-02T18:08:54.266Z"
   },
   {
    "duration": 13,
    "start_time": "2021-11-02T18:08:54.287Z"
   },
   {
    "duration": 34,
    "start_time": "2021-11-02T18:08:54.303Z"
   },
   {
    "duration": 18,
    "start_time": "2021-11-02T18:08:54.340Z"
   },
   {
    "duration": 379,
    "start_time": "2021-11-02T18:08:54.361Z"
   },
   {
    "duration": 3533,
    "start_time": "2021-11-02T18:08:54.743Z"
   },
   {
    "duration": 679,
    "start_time": "2021-11-02T18:08:58.279Z"
   }
  ],
  "kernelspec": {
   "display_name": "Python 3",
   "language": "python",
   "name": "python3"
  },
  "language_info": {
   "codemirror_mode": {
    "name": "ipython",
    "version": 3
   },
   "file_extension": ".py",
   "mimetype": "text/x-python",
   "name": "python",
   "nbconvert_exporter": "python",
   "pygments_lexer": "ipython3",
   "version": "3.7.8"
  },
  "toc": {
   "base_numbering": 1,
   "nav_menu": {},
   "number_sections": true,
   "sideBar": true,
   "skip_h1_title": true,
   "title_cell": "Содержание",
   "title_sidebar": "Contents",
   "toc_cell": true,
   "toc_position": {},
   "toc_section_display": true,
   "toc_window_display": false
  }
 },
 "nbformat": 4,
 "nbformat_minor": 2
}
